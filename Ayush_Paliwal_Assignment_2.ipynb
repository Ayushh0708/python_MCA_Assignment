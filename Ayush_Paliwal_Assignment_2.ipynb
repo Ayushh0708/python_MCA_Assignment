{
 "cells": [
  {
   "cell_type": "code",
   "execution_count": 3,
   "id": "a2860792-d8d2-40a2-906e-ddaae802e4d3",
   "metadata": {},
   "outputs": [
    {
     "name": "stdout",
     "output_type": "stream",
     "text": [
      "Hello Alice\n",
      "Good Morning Bob\n"
     ]
    }
   ],
   "source": [
    "def greet(name , message = \"Hello\"):\n",
    "    print(message + \" \" + name)\n",
    "\n",
    "\n",
    "greet(\"Alice\")\n",
    "greet(\"Bob\" , \"Good Morning\")\n"
   ]
  },
  {
   "cell_type": "code",
   "execution_count": 9,
   "id": "c1b5e018-1069-433e-8082-73a2bcfe2467",
   "metadata": {
    "jupyter": {
     "source_hidden": true
    }
   },
   "outputs": [
    {
     "name": "stdout",
     "output_type": "stream",
     "text": [
      "Name: John, Age: 25, City: Chicago\n",
      "Name: Emma, Age: 22, City: Los Angeles\n"
     ]
    }
   ],
   "source": [
    "def profile(name, city, age = 25):\n",
    "    print(\"Name: \"+ name + \", \" + \"Age: \" + str(age) + \", \" + \"City: \" + city)\n",
    "\n",
    "\n",
    "profile(name = \"John\" , city = \"Chicago\")\n",
    "profile(name=\"Emma\", age=22, city=\"Los Angeles\")"
   ]
  },
  {
   "cell_type": "code",
   "execution_count": 12,
   "id": "3cbd861a-2db2-4a5a-b223-eb40a97b926e",
   "metadata": {},
   "outputs": [
    {
     "name": "stdout",
     "output_type": "stream",
     "text": [
      "(3, {'x': 4, 'y': 5})\n"
     ]
    }
   ],
   "source": [
    "def sum(*args , **kwargs):\n",
    "    total = 0\n",
    "    for num in args:\n",
    "        total += num\n",
    "    return total , kwargs\n",
    "\n",
    "\n",
    "sum(1, 2, 3)\n",
    "print(sum(1,2 , x = 4 , y=5))"
   ]
  },
  {
   "cell_type": "code",
   "execution_count": 13,
   "id": "42e4ae32-de95-46bf-9132-1c4faede09ee",
   "metadata": {},
   "outputs": [
    {
     "name": "stdout",
     "output_type": "stream",
     "text": [
      "[1, 4, 9, 16]\n"
     ]
    }
   ],
   "source": [
    "def square_list(numbers):\n",
    "    return list(map(lambda x: x**2, numbers))\n",
    "\n",
    "result = square_list([1, 2, 3, 4])\n",
    "print(result)  "
   ]
  },
  {
   "cell_type": "code",
   "execution_count": 15,
   "id": "7c8b7e9b-9fc1-4642-bc20-e9866f482709",
   "metadata": {},
   "outputs": [
    {
     "name": "stdout",
     "output_type": "stream",
     "text": [
      "[2, 4]\n"
     ]
    }
   ],
   "source": [
    "def filter_odd_numbers(numbers):\n",
    "    return list(filter(lambda x: x % 2 == 0, numbers))\n",
    "\n",
    "print(filter_odd_numbers([1, 2, 3, 4, 5]))\n"
   ]
  },
  {
   "cell_type": "code",
   "execution_count": 17,
   "id": "a2016437-4c7f-453e-951c-b81b7cf34a96",
   "metadata": {},
   "outputs": [
    {
     "name": "stdout",
     "output_type": "stream",
     "text": [
      "[1, 4, 9, 16, 25]\n"
     ]
    }
   ],
   "source": [
    "def square_numbers(numbers):\n",
    "    return [x**2 for x in numbers]\n",
    "\n",
    "numbers = [1, 2, 3, 4, 5]\n",
    "print(square_numbers(numbers))\n"
   ]
  },
  {
   "cell_type": "code",
   "execution_count": 18,
   "id": "b88c7ccc-35e7-4230-ac7b-bd02c1242469",
   "metadata": {},
   "outputs": [
    {
     "name": "stdout",
     "output_type": "stream",
     "text": [
      "[2, 4, 6, 8, 10, 12, 14, 16, 18, 20]\n"
     ]
    }
   ],
   "source": [
    "even_numbers = [x for x in range(1, 21) if x % 2 == 0]\n",
    "print(even_numbers)  # Output: [2, 4, 6, 8, 10, 12, 14, 16, 18, 20]"
   ]
  },
  {
   "cell_type": "code",
   "execution_count": 19,
   "id": "c27d9a53-6cd6-4b9a-8109-2ffa0056c8c8",
   "metadata": {},
   "outputs": [
    {
     "name": "stdout",
     "output_type": "stream",
     "text": [
      "Directory 'test_folder' created\n",
      "Paused for 3 seconds\n"
     ]
    }
   ],
   "source": [
    "import os\n",
    "import time\n",
    "\n",
    "def file_operations():\n",
    "    # Create a directory named \"test_folder\"\n",
    "    os.mkdir(\"test_folder\")\n",
    "    print(\"Directory 'test_folder' created\")\n",
    "\n",
    "    # Pause the execution for 3 seconds\n",
    "    time.sleep(3)\n",
    "    print(\"Paused for 3 seconds\")\n",
    "\n",
    "    # # Delete the directory\n",
    "    # os.rmdir(\"test_folder\")\n",
    "    # print(\"Directory 'test_folder' deleted\")\n",
    "\n",
    "file_operations()"
   ]
  },
  {
   "cell_type": "code",
   "execution_count": 20,
   "id": "6dbdea94-c483-4fed-9762-1150200c1987",
   "metadata": {},
   "outputs": [
    {
     "name": "stdout",
     "output_type": "stream",
     "text": [
      "Paused execution...\n"
     ]
    }
   ],
   "source": [
    "from time import sleep as pause\n",
    "\n",
    "pause(2)  # Pauses for 2 seconds\n",
    "print(\"Paused execution...\")"
   ]
  },
  {
   "cell_type": "code",
   "execution_count": 21,
   "id": "b306fd4f-1606-4150-9c14-5999dba4faee",
   "metadata": {},
   "outputs": [
    {
     "name": "stdout",
     "output_type": "stream",
     "text": [
      "[1, 2, 3, 4, 5, 6]\n",
      "[1, 2, 3, 4, 5]\n"
     ]
    }
   ],
   "source": [
    "def flatten_list(nested_list):\n",
    "  flat_list = []\n",
    "  for item in nested_list:\n",
    "    if isinstance(item, list):\n",
    "      flat_list.extend(flatten_list(item))\n",
    "    else:\n",
    "      flat_list.append(item)\n",
    "  return flat_list\n",
    "\n",
    "# Example usage:\n",
    "nested_list1 = [1, [2, 3], [[4, 5], 6]]\n",
    "flattened_list1 = flatten_list(nested_list1)\n",
    "print(flattened_list1)  # Output: [1, 2, 3, 4, 5, 6]\n",
    "\n",
    "nested_list2 = [[1, 2], [3, [4, [5]]]]\n",
    "flattened_list2 = flatten_list(nested_list2)\n",
    "print(flattened_list2)  # Output: [1, 2, 3, 4, 5]"
   ]
  },
  {
   "cell_type": "code",
   "execution_count": null,
   "id": "23df0c7a-a658-4c69-8ecb-19fb2381b189",
   "metadata": {},
   "outputs": [],
   "source": []
  }
 ],
 "metadata": {
  "kernelspec": {
   "display_name": "Python 3 (ipykernel)",
   "language": "python",
   "name": "python3"
  },
  "language_info": {
   "codemirror_mode": {
    "name": "ipython",
    "version": 3
   },
   "file_extension": ".py",
   "mimetype": "text/x-python",
   "name": "python",
   "nbconvert_exporter": "python",
   "pygments_lexer": "ipython3",
   "version": "3.11.9"
  }
 },
 "nbformat": 4,
 "nbformat_minor": 5
}
