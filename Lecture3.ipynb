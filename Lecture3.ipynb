{
 "cells": [
  {
   "cell_type": "code",
   "execution_count": 2,
   "id": "35348b75-dec5-4bb1-a7e9-d45b13c1c35f",
   "metadata": {},
   "outputs": [
    {
     "name": "stdout",
     "output_type": "stream",
     "text": [
      "140733945836424\n",
      "140733945836488\n",
      "140733945836616\n"
     ]
    }
   ],
   "source": [
    "a=4\n",
    "b=6\n",
    "c=8\n",
    "c=c+2\n",
    "\n",
    "print(id(a))\n",
    "print(id(b))\n",
    "print(id(c))"
   ]
  },
  {
   "cell_type": "code",
   "execution_count": 3,
   "id": "947b106a-8d85-497e-b4cf-c614f670c65c",
   "metadata": {},
   "outputs": [
    {
     "name": "stdout",
     "output_type": "stream",
     "text": [
      "140733945836616\n",
      "140733945836616\n",
      "140733945836616\n",
      "140733945836616\n",
      "140733945836616\n",
      "140733945836616\n",
      "140733945836616\n",
      "140733945836616\n",
      "140733945836616\n",
      "140733945836616\n",
      "140733945836616\n",
      "140733945836616\n",
      "140733945836616\n",
      "140733945836616\n",
      "140733945836616\n",
      "140733945836616\n",
      "140733945836616\n",
      "140733945836616\n",
      "140733945836616\n"
     ]
    }
   ],
   "source": [
    "d=10\n",
    "for i in range(1,20):\n",
    "    print(id(d))"
   ]
  },
  {
   "cell_type": "code",
   "execution_count": 4,
   "id": "f4376070-0471-436d-b639-c4fb91f24c55",
   "metadata": {},
   "outputs": [
    {
     "name": "stdout",
     "output_type": "stream",
     "text": [
      "1 2 3 4 5 [1, 2, 3, 4, 5]\n",
      "2635968340096\n",
      "<class 'list'>\n"
     ]
    }
   ],
   "source": [
    "# List are mutable and can be change, whereas in variable the memory is fixed.\n",
    "# storing the interger value\n",
    "list_of_integer=[1,2,3,4,5]\n",
    "for i in list_of_integer:\n",
    "    print(i, end=\" \")\n",
    "print(list_of_integer)\n",
    "print(id(list_of_integer))\n",
    "print(type(list_of_integer))"
   ]
  },
  {
   "cell_type": "code",
   "execution_count": 5,
   "id": "ac3e8f30-12c3-479d-b4d4-6f58746cec83",
   "metadata": {},
   "outputs": [
    {
     "name": "stdout",
     "output_type": "stream",
     "text": [
      "1\n"
     ]
    }
   ],
   "source": [
    "# accessing the value from the list\n",
    "print(list_of_integer[0])"
   ]
  },
  {
   "cell_type": "code",
   "execution_count": 6,
   "id": "3d9d498c-5d17-481a-80e2-e4d029040c95",
   "metadata": {},
   "outputs": [
    {
     "data": {
      "text/plain": [
       "[1, 2, 3, 4, 5, 10]"
      ]
     },
     "execution_count": 6,
     "metadata": {},
     "output_type": "execute_result"
    }
   ],
   "source": [
    "# append\n",
    "list_of_integer.append(10)\n",
    "list_of_integer"
   ]
  },
  {
   "cell_type": "code",
   "execution_count": 7,
   "id": "cac6198c-e8cb-4191-a709-fabbddf29697",
   "metadata": {},
   "outputs": [],
   "source": [
    "# remove\n",
    "list_of_integer.remove(10)"
   ]
  },
  {
   "cell_type": "code",
   "execution_count": 8,
   "id": "25efa79b-ba29-49dc-83a3-e209ac808d09",
   "metadata": {},
   "outputs": [
    {
     "data": {
      "text/plain": [
       "[1, 2, 3, 4, 5]"
      ]
     },
     "execution_count": 8,
     "metadata": {},
     "output_type": "execute_result"
    }
   ],
   "source": [
    "list_of_integer"
   ]
  },
  {
   "cell_type": "code",
   "execution_count": 9,
   "id": "f5c5697b-dbcf-41bf-bf3a-921163d992e5",
   "metadata": {},
   "outputs": [
    {
     "name": "stdout",
     "output_type": "stream",
     "text": [
      "[[40, 50, 60], [60, 70, 80]]\n"
     ]
    }
   ],
   "source": [
    "# storing list in list\n",
    "# matrix store\n",
    "a=[40,50,60]\n",
    "b=[60,70,80]\n",
    "c=[a,b]\n",
    "print(c)"
   ]
  },
  {
   "cell_type": "code",
   "execution_count": 10,
   "id": "797d43ba-4d6b-44a7-ac25-543da02cd989",
   "metadata": {},
   "outputs": [
    {
     "data": {
      "text/plain": [
       "50"
      ]
     },
     "execution_count": 10,
     "metadata": {},
     "output_type": "execute_result"
    }
   ],
   "source": [
    "#accessing the matrix\n",
    "c[0][1]"
   ]
  },
  {
   "cell_type": "code",
   "execution_count": 11,
   "id": "3adeb459-d757-461d-b931-0fb839afdd5b",
   "metadata": {},
   "outputs": [
    {
     "data": {
      "text/plain": [
       "70"
      ]
     },
     "execution_count": 11,
     "metadata": {},
     "output_type": "execute_result"
    }
   ],
   "source": [
    "c[1][1]  # [row][column]"
   ]
  },
  {
   "cell_type": "code",
   "execution_count": 12,
   "id": "4b6927b9-6664-47a8-8202-36c3db221a91",
   "metadata": {},
   "outputs": [
    {
     "data": {
      "text/plain": [
       "[40, 50, 60, 40, 50, 60]"
      ]
     },
     "execution_count": 12,
     "metadata": {},
     "output_type": "execute_result"
    }
   ],
   "source": [
    "a*2   # python is general purpose language"
   ]
  },
  {
   "cell_type": "code",
   "execution_count": 13,
   "id": "7ece9449-ff49-4c9f-b6ee-6865721351d8",
   "metadata": {},
   "outputs": [
    {
     "name": "stdout",
     "output_type": "stream",
     "text": [
      "(10, 11)\n"
     ]
    }
   ],
   "source": [
    "# storing the variable in the list that cannot be changes. \n",
    "a=(10,11) # tuple immutable hain.modification nhi honge\n",
    "print(a) "
   ]
  },
  {
   "cell_type": "code",
   "execution_count": 14,
   "id": "538c2cc1-83da-436a-b827-411922341c92",
   "metadata": {},
   "outputs": [
    {
     "ename": "AttributeError",
     "evalue": "'tuple' object has no attribute 'append'",
     "output_type": "error",
     "traceback": [
      "\u001b[1;31m---------------------------------------------------------------------------\u001b[0m",
      "\u001b[1;31mAttributeError\u001b[0m                            Traceback (most recent call last)",
      "Cell \u001b[1;32mIn[14], line 2\u001b[0m\n\u001b[0;32m      1\u001b[0m \u001b[38;5;66;03m# append will not work in tuple, as tuple already is immutable\u001b[39;00m\n\u001b[1;32m----> 2\u001b[0m \u001b[43ma\u001b[49m\u001b[38;5;241;43m.\u001b[39;49m\u001b[43mappend\u001b[49m(\u001b[38;5;241m100\u001b[39m)\n",
      "\u001b[1;31mAttributeError\u001b[0m: 'tuple' object has no attribute 'append'"
     ]
    }
   ],
   "source": [
    "# append will not work in tuple, as tuple already is immutable\n",
    "a.append(100)"
   ]
  },
  {
   "cell_type": "code",
   "execution_count": 15,
   "id": "b6b9d350-f266-49f7-893a-5e616904a2f0",
   "metadata": {},
   "outputs": [
    {
     "data": {
      "text/plain": [
       "1"
      ]
     },
     "execution_count": 15,
     "metadata": {},
     "output_type": "execute_result"
    }
   ],
   "source": [
    "# count the number of element in the tuple \n",
    "a.count(10)"
   ]
  },
  {
   "cell_type": "code",
   "execution_count": 16,
   "id": "73803c9e-7865-4f77-9d13-40f353f7e16f",
   "metadata": {},
   "outputs": [
    {
     "name": "stdout",
     "output_type": "stream",
     "text": [
      "{1, 2, 3}\n"
     ]
    }
   ],
   "source": [
    "seta={1,2,3}\n",
    "print(seta)"
   ]
  },
  {
   "cell_type": "code",
   "execution_count": 17,
   "id": "12da5405-85f3-4fb7-8a82-1d29381c64fb",
   "metadata": {},
   "outputs": [],
   "source": [
    "seta.add(2)"
   ]
  },
  {
   "cell_type": "code",
   "execution_count": 18,
   "id": "9caaf93e-8cf7-41e5-99fe-e703fe034200",
   "metadata": {},
   "outputs": [
    {
     "name": "stdout",
     "output_type": "stream",
     "text": [
      "{1, 2, 3}\n"
     ]
    }
   ],
   "source": [
    "print(seta)"
   ]
  },
  {
   "cell_type": "code",
   "execution_count": 19,
   "id": "e3986bfe-470d-467e-9a3b-7dcd116ada9c",
   "metadata": {},
   "outputs": [
    {
     "name": "stdout",
     "output_type": "stream",
     "text": [
      "{1, 2, 3, 5555}\n"
     ]
    }
   ],
   "source": [
    "seta.add(5555)\n",
    "print(seta)"
   ]
  },
  {
   "cell_type": "code",
   "execution_count": 21,
   "id": "a994248a-ffb6-4795-943e-ebb7fdca13dd",
   "metadata": {},
   "outputs": [
    {
     "data": {
      "text/plain": [
       "{'name': 'Ayush', 'batch': 'b1'}"
      ]
     },
     "execution_count": 21,
     "metadata": {},
     "output_type": "execute_result"
    }
   ],
   "source": [
    "dict1={\"name\":\"Ayush\",\"batch\":\"b1\"}\n",
    "dict1"
   ]
  },
  {
   "cell_type": "code",
   "execution_count": 22,
   "id": "09749a64-7b65-4479-b16b-421642f1705f",
   "metadata": {},
   "outputs": [
    {
     "data": {
      "text/plain": [
       "dict_values(['Ayush', 'b1'])"
      ]
     },
     "execution_count": 22,
     "metadata": {},
     "output_type": "execute_result"
    }
   ],
   "source": [
    "dict1.values()"
   ]
  },
  {
   "cell_type": "code",
   "execution_count": 23,
   "id": "bb83f121-26a6-4559-959d-9c73d437bec9",
   "metadata": {},
   "outputs": [
    {
     "data": {
      "text/plain": [
       "'Ayush'"
      ]
     },
     "execution_count": 23,
     "metadata": {},
     "output_type": "execute_result"
    }
   ],
   "source": [
    "# accesing the value in the dictionary\n",
    "dict1[\"name\"]"
   ]
  },
  {
   "cell_type": "code",
   "execution_count": 24,
   "id": "ba50875c-be2f-4792-8731-7cca9f2a5d10",
   "metadata": {},
   "outputs": [
    {
     "data": {
      "text/plain": [
       "'b1'"
      ]
     },
     "execution_count": 24,
     "metadata": {},
     "output_type": "execute_result"
    }
   ],
   "source": [
    "dict1[\"batch\"]"
   ]
  },
  {
   "cell_type": "code",
   "execution_count": 25,
   "id": "1e804f7d-b0b8-472a-84c8-f594ebc55286",
   "metadata": {},
   "outputs": [
    {
     "name": "stdin",
     "output_type": "stream",
     "text": [
      "enter the number => 54\n"
     ]
    },
    {
     "name": "stdout",
     "output_type": "stream",
     "text": [
      "54 x 1=> 54\n",
      "54 x 2=> 108\n",
      "54 x 3=> 162\n",
      "54 x 4=> 216\n",
      "54 x 5=> 270\n",
      "54 x 6=> 324\n",
      "54 x 7=> 378\n",
      "54 x 8=> 432\n",
      "54 x 9=> 486\n",
      "54 x 10=> 540\n"
     ]
    }
   ],
   "source": [
    "a=int(input(\"enter the number =>\"))\n",
    "\n",
    "for i in range(1,11):\n",
    "    val=a*i\n",
    "    print(f\"{a} x {i}=> {val}\")"
   ]
  },
  {
   "cell_type": "code",
   "execution_count": 26,
   "id": "dedd7ae2-1d6a-4c7f-a288-72d58c1f4cd2",
   "metadata": {},
   "outputs": [
    {
     "name": "stdin",
     "output_type": "stream",
     "text": [
      "enter the value 1=>  2\n",
      "enter the value 2=>  3\n",
      "enter the value 3=>  4\n"
     ]
    },
    {
     "name": "stdout",
     "output_type": "stream",
     "text": [
      "sum of the number is 9\n",
      "average of the number is 3.0\n",
      "minimum of the number is 2\n",
      "maximum of the number is 4\n"
     ]
    }
   ],
   "source": [
    "def calc(a,b,c):\n",
    "    sum1=a+b+c\n",
    "    average=sum1/3\n",
    "    print(f\"sum of the number is {sum1}\")\n",
    "    print(f\"average of the number is {average}\")\n",
    "    print(f\"minimum of the number is {min(a,b,c)}\")\n",
    "    print(f\"maximum of the number is {max(a,b,c)}\")\n",
    "\n",
    "x= int(input(\"enter the value 1=> \"))\n",
    "y= int(input(\"enter the value 2=> \"))\n",
    "z= int(input(\"enter the value 3=> \"))\n",
    "calc(x,y,z)"
   ]
  },
  {
   "cell_type": "code",
   "execution_count": 28,
   "id": "1e99e332-c38d-493e-817d-d22081b74802",
   "metadata": {},
   "outputs": [
    {
     "name": "stdout",
     "output_type": "stream",
     "text": [
      "sum of the number is 6174\n",
      "average of the number is 1234.8\n",
      "minimum of the number is 2\n",
      "maximum of the number is 5320\n",
      "\n",
      "sum of the number is 70\n",
      "average of the number is 14.0\n",
      "minimum of the number is 0\n",
      "maximum of the number is 40\n"
     ]
    }
   ],
   "source": [
    "# what is the user want to add more argument\n",
    "\n",
    "def calc(a,b,c,d=0,e=0):\n",
    "    sum1=a+b+c+d+e\n",
    "    average=sum1/5\n",
    "    print(f\"sum of the number is {sum1}\")\n",
    "    print(f\"average of the number is {average}\")\n",
    "    print(f\"minimum of the number is {min(a,b,c,d,e)}\")\n",
    "    print(f\"maximum of the number is {max(a,b,c,d,e)}\")\n",
    "\n",
    "calc(14,2,388,450,5320)\n",
    "print()\n",
    "calc(10,20,40)"
   ]
  },
  {
   "cell_type": "code",
   "execution_count": 29,
   "id": "2edaa31e-2479-45a8-b6d0-82a08c5f0e2e",
   "metadata": {},
   "outputs": [
    {
     "name": "stdout",
     "output_type": "stream",
     "text": [
      "10\n",
      "20\n",
      "(30, 40, 50)\n",
      "\n",
      "10\n",
      "20\n",
      "(40,)\n"
     ]
    }
   ],
   "source": [
    "def calc(a,b,*args):\n",
    "    print(a)\n",
    "    print(b)\n",
    "    print(args)\n",
    "\n",
    "calc(10,20,30,40,50)\n",
    "print()\n",
    "calc(10,20,40)"
   ]
  },
  {
   "cell_type": "code",
   "execution_count": null,
   "id": "025505b4-3b3a-40be-9864-f6e2007ede2d",
   "metadata": {},
   "outputs": [],
   "source": []
  }
 ],
 "metadata": {
  "kernelspec": {
   "display_name": "Python 3 (ipykernel)",
   "language": "python",
   "name": "python3"
  },
  "language_info": {
   "codemirror_mode": {
    "name": "ipython",
    "version": 3
   },
   "file_extension": ".py",
   "mimetype": "text/x-python",
   "name": "python",
   "nbconvert_exporter": "python",
   "pygments_lexer": "ipython3",
   "version": "3.11.9"
  }
 },
 "nbformat": 4,
 "nbformat_minor": 5
}
