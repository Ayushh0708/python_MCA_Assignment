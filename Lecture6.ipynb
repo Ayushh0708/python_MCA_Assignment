{
 "cells": [
  {
   "cell_type": "code",
   "execution_count": 1,
   "id": "357e6c10-cbed-47a3-9f01-63412b29d09e",
   "metadata": {},
   "outputs": [
    {
     "name": "stdout",
     "output_type": "stream",
     "text": [
      "{'sum': 38, 'cumulative_sum': [2, 5, 9, 14, 21, 29, 38], 'average': 5.428571428571429, 'min': 2, 'max': 9}\n"
     ]
    }
   ],
   "source": [
    "def display(list1)->None:\n",
    "    total=0\n",
    "    list2=[]\n",
    "    for i in list1:\n",
    "        total=total+i\n",
    "        list2.append(total)\n",
    "        \n",
    "    length=len(list1)\n",
    "#     print(f\"Sum is -> {sum(list1)}\")\n",
    "#     print(f\"cumulative Sum is -> {list2}\")\n",
    "#     print(f\"Average is -> {total/length}\")\n",
    "#     print(f\"Minimum is -> {min(list1)}\")\n",
    "#     print(f\"Maximum is -> {max(list1)}\")\n",
    "    result = {\n",
    "        'sum': total,\n",
    "        'cumulative_sum': list2,\n",
    "        'average': total / length if length > 0 else 0,\n",
    "        'min': min(list1),\n",
    "        'max': max(list1)\n",
    "    }\n",
    "    return result\n",
    "\n",
    "list1=[2,3,4,5,7,8,9]\n",
    "val=display(list1)\n",
    "print(val)"
   ]
  },
  {
   "cell_type": "code",
   "execution_count": null,
   "id": "b21bb48e-10a9-4157-bc3b-cfa9a56efdb5",
   "metadata": {},
   "outputs": [
    {
     "name": "stdin",
     "output_type": "stream",
     "text": [
      "Enter the number : 56\n",
      "enter the element {i} 3\n",
      "enter the element {i} 2\n",
      "enter the element {i} 1\n",
      "enter the element {i} 6\n",
      "enter the element {i} 8\n",
      "enter the element {i} 9\n",
      "enter the element {i} 8\n"
     ]
    }
   ],
   "source": [
    "# asking user to enter the number which he want to fix\n",
    "n=int(input(\"Enter the number :\"))\n",
    "\n",
    "list1=[]\n",
    "for i in range(0,n):\n",
    "    user=int(input(\"enter the element {i}\"))\n",
    "    list1.append(user)\n",
    "print(list1)"
   ]
  },
  {
   "cell_type": "code",
   "execution_count": null,
   "id": "cbc03950-fee6-4f53-9300-19151c4e1420",
   "metadata": {},
   "outputs": [],
   "source": [
    "# final code \n",
    "\n",
    "def display(list1)->None:\n",
    "    total=0\n",
    "    list2=[]\n",
    "    for i in list1:\n",
    "        total=total+i\n",
    "        list2.append(total)\n",
    "        \n",
    "    length=len(list1)\n",
    "    result = {\n",
    "        'sum': total,\n",
    "        'cumulative_sum': list2,\n",
    "        'average': total / length if length > 0 else 0,\n",
    "        'min': min(list1),\n",
    "        'max': max(list1)\n",
    "    }\n",
    "    return result\n",
    "\n",
    "# asking user to enter the number which he want to fix\n",
    "n=int(input(\"Enter the number :\"))\n",
    "list1=[]\n",
    "for i in range(0,n):\n",
    "    user=int(input(\"enter the element {i}\"))\n",
    "    list1.append(user)\n",
    "    \n",
    "val=display(list1)\n",
    "print(val)"
   ]
  },
  {
   "cell_type": "code",
   "execution_count": null,
   "id": "6d230faf-5df2-4971-90bc-c23bae176d0d",
   "metadata": {},
   "outputs": [],
   "source": []
  }
 ],
 "metadata": {
  "kernelspec": {
   "display_name": "Python 3 (ipykernel)",
   "language": "python",
   "name": "python3"
  },
  "language_info": {
   "codemirror_mode": {
    "name": "ipython",
    "version": 3
   },
   "file_extension": ".py",
   "mimetype": "text/x-python",
   "name": "python",
   "nbconvert_exporter": "python",
   "pygments_lexer": "ipython3",
   "version": "3.11.9"
  }
 },
 "nbformat": 4,
 "nbformat_minor": 5
}
