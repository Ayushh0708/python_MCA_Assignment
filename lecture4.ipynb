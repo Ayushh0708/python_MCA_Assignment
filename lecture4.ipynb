{
 "cells": [
  {
   "cell_type": "code",
   "execution_count": 3,
   "id": "f810dfe8-663b-4d18-9854-4defeb283ecd",
   "metadata": {},
   "outputs": [
    {
     "data": {
      "text/plain": [
       "50.0"
      ]
     },
     "execution_count": 3,
     "metadata": {},
     "output_type": "execute_result"
    }
   ],
   "source": [
    "# Variable names\n",
    "\n",
    "user_name = \"Ayush\"\n",
    "total_score = 5\n",
    "\n",
    "\n",
    "def calculate_average(score_list):\n",
    "    total = sum(score_list)\n",
    "    return total / len(score_list)\n",
    "\n",
    "calculate_average([50,70,30])"
   ]
  },
  {
   "cell_type": "code",
   "execution_count": 4,
   "id": "b4e95954-66ec-4a7c-9335-1f6f97f43e4f",
   "metadata": {},
   "outputs": [
    {
     "name": "stdout",
     "output_type": "stream",
     "text": [
      "first matrix\n",
      "[[3, 6, 9], [12, 15, 18], [21, 24, 27]]\n",
      "\n",
      " copied matrix\n",
      "[[3, 6, 9], [12, 15, 18], [21, 24, 27]]\n",
      "2990620869376\n",
      "2990620869376\n"
     ]
    }
   ],
   "source": [
    "list1=[\n",
    "    [1,2,3],\n",
    "    [4,5,6],\n",
    "    [7,8,9]\n",
    "]\n",
    "\n",
    "# copy the matrix\n",
    "list2=list1\n",
    "\n",
    "\n",
    "# multiple by number by 2\n",
    "constant=3\n",
    "for i in range(len(list2)):\n",
    "    for j in range(len(list2[i])):\n",
    "        list2[i][j] *= constant\n",
    "\n",
    "    \n",
    "# Print both matrices\n",
    "print(\"first matrix\")\n",
    "print(list1)\n",
    "\n",
    "print(\"\\n copied matrix\")\n",
    "print(list2)\n",
    "    \n",
    "\n",
    "    \n",
    "    \n",
    "# checking the id of the list 1 and list 2 \n",
    "# ki woh change hue ya nhi\n",
    "\n",
    "print(id(list1))\n",
    "print(id(list2))"
   ]
  },
  {
   "cell_type": "code",
   "execution_count": null,
   "id": "c8b746a9-8e38-44ca-a553-71e45c9adc83",
   "metadata": {},
   "outputs": [],
   "source": []
  }
 ],
 "metadata": {
  "kernelspec": {
   "display_name": "Python 3 (ipykernel)",
   "language": "python",
   "name": "python3"
  },
  "language_info": {
   "codemirror_mode": {
    "name": "ipython",
    "version": 3
   },
   "file_extension": ".py",
   "mimetype": "text/x-python",
   "name": "python",
   "nbconvert_exporter": "python",
   "pygments_lexer": "ipython3",
   "version": "3.11.9"
  }
 },
 "nbformat": 4,
 "nbformat_minor": 5
}
