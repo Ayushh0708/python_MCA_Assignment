{
 "cells": [
  {
   "cell_type": "code",
   "execution_count": 1,
   "id": "8ab95bea-53b3-422a-98f5-14e7f0831f89",
   "metadata": {},
   "outputs": [
    {
     "data": {
      "text/plain": [
       "4"
      ]
     },
     "execution_count": 1,
     "metadata": {},
     "output_type": "execute_result"
    }
   ],
   "source": [
    "2+2"
   ]
  },
  {
   "cell_type": "code",
   "execution_count": 2,
   "id": "53ead596-a537-44b0-950e-edb68ed578d3",
   "metadata": {},
   "outputs": [
    {
     "name": "stdout",
     "output_type": "stream",
     "text": [
      "Ayush Paliwal\n"
     ]
    },
    {
     "data": {
      "text/plain": [
       "str"
      ]
     },
     "execution_count": 2,
     "metadata": {},
     "output_type": "execute_result"
    }
   ],
   "source": [
    "# strings in python \n",
    "\n",
    "mystring=\"Ayush Paliwal\"\n",
    "print(mystring)\n",
    "type(mystring)"
   ]
  },
  {
   "cell_type": "code",
   "execution_count": 3,
   "id": "fa105709-cf8b-43c4-bb15-ba55751c3b18",
   "metadata": {},
   "outputs": [
    {
     "data": {
      "text/plain": [
       "'AYUSH PALIWAL'"
      ]
     },
     "execution_count": 3,
     "metadata": {},
     "output_type": "execute_result"
    }
   ],
   "source": [
    "mystring.upper()  #Converst the string into the uppercase"
   ]
  },
  {
   "cell_type": "code",
   "execution_count": 4,
   "id": "ab109a9e-6268-4a75-855a-e170edcf0944",
   "metadata": {},
   "outputs": [
    {
     "data": {
      "text/plain": [
       "'Arush Paliwal'"
      ]
     },
     "execution_count": 4,
     "metadata": {},
     "output_type": "execute_result"
    }
   ],
   "source": [
    "mystring.replace(\"y\",\"r\")"
   ]
  },
  {
   "cell_type": "code",
   "execution_count": 5,
   "id": "9ef87745-0093-4816-aa74-a68d0953e061",
   "metadata": {},
   "outputs": [
    {
     "name": "stdout",
     "output_type": "stream",
     "text": [
      "hiclass\n",
      "hi class\n"
     ]
    }
   ],
   "source": [
    "# string concatenation \n",
    "str1=\"hi\"\n",
    "str2=\"class\"\n",
    "print(str1+str2)\n",
    "\n",
    "# agar bich m space print karna hai toh\n",
    "print(str1+\" \"+str2)"
   ]
  },
  {
   "cell_type": "code",
   "execution_count": 6,
   "id": "c39cc7b5-ffc9-4640-a4b7-cb095ec10705",
   "metadata": {},
   "outputs": [
    {
     "name": "stdout",
     "output_type": "stream",
     "text": [
      "hihihi\n"
     ]
    }
   ],
   "source": [
    "print(str1 *3)"
   ]
  },
  {
   "cell_type": "code",
   "execution_count": 7,
   "id": "240cd51f-c201-4d1f-9512-4c4cb0cd6bd7",
   "metadata": {},
   "outputs": [
    {
     "name": "stdout",
     "output_type": "stream",
     "text": [
      "True\n"
     ]
    }
   ],
   "source": [
    "# membership function  : to check whether the item is in string or not\n",
    "\n",
    "str1=\"Prashant Joshi\"\n",
    "print(\"Joshi\"in str1) #Returns the true value"
   ]
  },
  {
   "cell_type": "code",
   "execution_count": 8,
   "id": "075414c9-4adc-4d0c-8e9e-af5693a39c9d",
   "metadata": {},
   "outputs": [
    {
     "name": "stdout",
     "output_type": "stream",
     "text": [
      "10\n"
     ]
    }
   ],
   "source": [
    "str3=\"0123456789\"\n",
    "# length check karni hai\n",
    "print(len(str3))"
   ]
  },
  {
   "cell_type": "code",
   "execution_count": 9,
   "id": "fe798cf7-7d0c-42c6-bbd9-3b04893fd5eb",
   "metadata": {},
   "outputs": [
    {
     "data": {
      "text/plain": [
       "'0'"
      ]
     },
     "execution_count": 9,
     "metadata": {},
     "output_type": "execute_result"
    }
   ],
   "source": [
    "\n",
    "str3[0]"
   ]
  },
  {
   "cell_type": "code",
   "execution_count": 10,
   "id": "91ed55a0-4e1d-4094-a0a4-5a1de3a073d0",
   "metadata": {},
   "outputs": [
    {
     "data": {
      "text/plain": [
       "'0123456789'"
      ]
     },
     "execution_count": 10,
     "metadata": {},
     "output_type": "execute_result"
    }
   ],
   "source": [
    "str3[0:10] # here 10 index position value excluded hogi"
   ]
  },
  {
   "cell_type": "code",
   "execution_count": 11,
   "id": "7c1010ba-5aec-4855-ab20-acdbc2b17d36",
   "metadata": {},
   "outputs": [
    {
     "name": "stdout",
     "output_type": "stream",
     "text": [
      "False\n",
      "True\n"
     ]
    }
   ],
   "source": [
    "# string comparsion\n",
    "str1=\"apple\"\n",
    "str2=\"banana\"\n",
    "\n",
    "print(str1==str2)\n",
    "print(str1<str2)  # Dictonary->  alphabets ascending order m B is greater than A   ( completed based on oders)"
   ]
  },
  {
   "cell_type": "code",
   "execution_count": 12,
   "id": "4f11ecbc-74cb-4e10-a888-353acc4f2ca3",
   "metadata": {},
   "outputs": [
    {
     "name": "stdout",
     "output_type": "stream",
     "text": [
      "True\n"
     ]
    }
   ],
   "source": [
    "a=\"aaabc\"\n",
    "b=\"aabc\"\n",
    "print(a<b)"
   ]
  },
  {
   "cell_type": "code",
   "execution_count": 13,
   "id": "83458875-74e6-4342-85e2-f57798713a4a",
   "metadata": {},
   "outputs": [
    {
     "name": "stdout",
     "output_type": "stream",
     "text": [
      "hi \"python\"\n"
     ]
    }
   ],
   "source": [
    "# ESCAPE CHARACTER   \n",
    "\n",
    "str4=\"hi \\\"python\\\"\"\n",
    "print(str4)"
   ]
  },
  {
   "cell_type": "code",
   "execution_count": 14,
   "id": "9659c841-17f8-4652-afa9-0586d9bc4a94",
   "metadata": {},
   "outputs": [
    {
     "name": "stdin",
     "output_type": "stream",
     "text": [
      "Enter your name please!!! :>  Ayush Paliwal\n"
     ]
    },
    {
     "name": "stdout",
     "output_type": "stream",
     "text": [
      "Hi Ayush Paliwal\n",
      "Hi Ayush Paliwal\n"
     ]
    }
   ],
   "source": [
    "# taking input in python\n",
    "\n",
    "name=input(\"Enter your name please!!! :> \")\n",
    "# or \n",
    "print(\"Hi \"+name)\n",
    "print(f\"Hi {name}\")  # string formatting  "
   ]
  },
  {
   "cell_type": "code",
   "execution_count": 15,
   "id": "9bf0d156-8899-4bca-a9bb-6423ecba0344",
   "metadata": {},
   "outputs": [
    {
     "name": "stdout",
     "output_type": "stream",
     "text": [
      "16\n"
     ]
    }
   ],
   "source": [
    "print(2**4)"
   ]
  },
  {
   "cell_type": "code",
   "execution_count": 16,
   "id": "41a1c7d2-5478-4399-ac45-bc0347c4593d",
   "metadata": {},
   "outputs": [
    {
     "name": "stdout",
     "output_type": "stream",
     "text": [
      "4.5004500450045\n"
     ]
    }
   ],
   "source": [
    "print(20000/4444)"
   ]
  },
  {
   "cell_type": "code",
   "execution_count": 17,
   "id": "1ad55cb2-7fd5-4529-8cf8-32aaddfb24ec",
   "metadata": {},
   "outputs": [
    {
     "name": "stdout",
     "output_type": "stream",
     "text": [
      "2965\n"
     ]
    }
   ],
   "source": [
    "print(20345%4345)"
   ]
  },
  {
   "cell_type": "code",
   "execution_count": null,
   "id": "f54601fd-9ca9-4665-85c0-bb6c337e2e2d",
   "metadata": {},
   "outputs": [],
   "source": []
  }
 ],
 "metadata": {
  "kernelspec": {
   "display_name": "Python 3 (ipykernel)",
   "language": "python",
   "name": "python3"
  },
  "language_info": {
   "codemirror_mode": {
    "name": "ipython",
    "version": 3
   },
   "file_extension": ".py",
   "mimetype": "text/x-python",
   "name": "python",
   "nbconvert_exporter": "python",
   "pygments_lexer": "ipython3",
   "version": "3.11.9"
  }
 },
 "nbformat": 4,
 "nbformat_minor": 5
}
