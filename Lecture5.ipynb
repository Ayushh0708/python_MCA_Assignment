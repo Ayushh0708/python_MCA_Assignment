{
 "cells": [
  {
   "cell_type": "code",
   "execution_count": 1,
   "id": "b4f7f269-1e29-4db3-98f3-6e24935fd802",
   "metadata": {},
   "outputs": [
    {
     "name": "stdout",
     "output_type": "stream",
     "text": [
      "BEFORE ANY CHANGE TO A AND B LIST \n",
      "id(A)-> 2982819724992\n",
      "id(B)-> 2982819724672\n",
      "a=>[1, 2, 3, [400, 250], 9, 5, 6]\n",
      "b=>[1, 2, 3, [400, 250], 9, 5, 6]\n",
      "\n",
      "AFTER CHANGES IN A and B LIST \n",
      "a=>[1, 2, 3, [400, 250], 9, 5, 6]\n",
      "b=>[100, 2, 3, [999, 250], 9, 5, 6]\n"
     ]
    }
   ],
   "source": [
    "# help to import the modules \n",
    "from copy import deepcopy\n",
    "\n",
    "a = [1, 2, 3, [400, 250], 9, 5, 6]\n",
    "\n",
    "b = deepcopy(a)  # DEEPCOPY use kar leya direct library m se\n",
    "print(\"BEFORE ANY CHANGE TO A AND B LIST \")\n",
    "print(f\"id(A)-> {id(a)}\")\n",
    "print(f\"id(B)-> {id(b)}\")\n",
    "\n",
    "print(f\"a=>{a}\")\n",
    "print(f\"b=>{b}\")\n",
    "\n",
    "\n",
    "b[0] = 100\n",
    "b[3][0] = 999\n",
    "print()\n",
    "print(\"AFTER CHANGES IN A and B LIST \")\n",
    "\n",
    "print(f\"a=>{a}\")\n",
    "print(f\"b=>{b}\")"
   ]
  },
  {
   "cell_type": "code",
   "execution_count": 2,
   "id": "2e3ac44f-fb2a-4f6f-8a8d-d75e38028b7d",
   "metadata": {},
   "outputs": [
    {
     "name": "stdout",
     "output_type": "stream",
     "text": [
      "id(A)-> 2982819723200\n",
      "id(B)-> 2982819723072\n",
      "a=>[1, 2, 3, 4, 5, 6]\n",
      "b=>[1, 2, 3, 4, 5, 6]\n",
      "\n",
      "a=>[1, 2, 3, 4, 5, 6]\n",
      "b=>[100, 2, 3, 4, 5, 6]\n"
     ]
    }
   ],
   "source": [
    "\"\"\"\n",
    "Shallow Copy and Deep Copy concept in list \n",
    "\"\"\"\n",
    "\n",
    "a = [1, 2, 3, 4, 5, 6]\n",
    "\n",
    "b = (\n",
    "    a.copy()\n",
    ")  # this is not the good method to save the duplicate list, humne sirf memory copy kari hai\n",
    "print(f\"id(A)-> {id(a)}\")\n",
    "print(f\"id(B)-> {id(b)}\")\n",
    "\n",
    "print(f\"a=>{a}\")\n",
    "print(f\"b=>{b}\")\n",
    "\n",
    "# and jab mane b ki index position ki value change kari toh a ki bhi value change ho gai hai\n",
    "b[0] = 100\n",
    "print()\n",
    "print(f\"a=>{a}\")\n",
    "print(f\"b=>{b}\")\n",
    "# NOTE that value of A list also changes at index position 0,\n",
    "# therefore to avoid this we use the concept of shallow copy and deep copy\n",
    "# as done above\n",
    "\n",
    "# DEEP COPY :  nested list ki ID change karna"
   ]
  },
  {
   "cell_type": "code",
   "execution_count": null,
   "id": "e896a66a-eb39-48a7-9e46-0fb3be7a9219",
   "metadata": {},
   "outputs": [],
   "source": []
  },
  {
   "cell_type": "code",
   "execution_count": null,
   "id": "9989cc8d-e212-4937-b54f-774fce581ad0",
   "metadata": {},
   "outputs": [],
   "source": []
  },
  {
   "cell_type": "code",
   "execution_count": 5,
   "id": "c21b89bd-236d-456d-9f0e-18e4d15ca2a7",
   "metadata": {},
   "outputs": [
    {
     "name": "stdout",
     "output_type": "stream",
     "text": [
      "Hello, Ayush Paliwal!\n"
     ]
    }
   ],
   "source": [
    "def greet(name):\n",
    "\n",
    "    \"\"\"Greets a person by their name.\"\"\"\n",
    "    return f\"Hello, {name}!\"\n",
    "\n",
    "message = greet(\"Ayush Paliwal\")\n",
    "print(message) "
   ]
  },
  {
   "cell_type": "code",
   "execution_count": 6,
   "id": "b63d7071-3053-48dc-a15f-423c33edc721",
   "metadata": {},
   "outputs": [
    {
     "name": "stdout",
     "output_type": "stream",
     "text": [
      "The Sum of Three number are => 16\n"
     ]
    }
   ],
   "source": [
    "def add(a, b,c):\n",
    "\n",
    "    \n",
    "    return a + b + c  \n",
    "\n",
    "\n",
    "result = add(5, 3,8)\n",
    "print(f\"The Sum of Three number are => {result}\") "
   ]
  },
  {
   "cell_type": "code",
   "execution_count": 7,
   "id": "bfe899f9-a30f-4141-be82-998cba39f800",
   "metadata": {},
   "outputs": [
    {
     "name": "stdout",
     "output_type": "stream",
     "text": [
      "My name is Prashant, and I am 25 years old.\n",
      "My name is Alice, and I am 30 years old.\n"
     ]
    }
   ],
   "source": [
    "# Keyword Parameter in python\n",
    "\n",
    "def introduce(name, age=25):\n",
    "\n",
    "    \"\"\"Introduces a person with their name and age.\"\"\"\n",
    "    return f\"My name is {name}, and I am {age} years old.\"# Calling with positional arguments\n",
    "\n",
    "\n",
    "print(introduce(\"Prashant\"))  # Output: My name is Bob, and I am 25 years old.Calling with keyword arguments\n",
    "\n",
    "\n",
    "print(introduce(name=\"Alice\", age=30))  # Output: My name is Alice, and I am 30 years old."
   ]
  },
  {
   "cell_type": "code",
   "execution_count": 8,
   "id": "23b716cb-0324-4919-a143-7e16d36a0290",
   "metadata": {},
   "outputs": [
    {
     "name": "stdout",
     "output_type": "stream",
     "text": [
      "15\n",
      "60\n"
     ]
    }
   ],
   "source": [
    "# PASSING LIST,TUPLES, DICTIONARY TO THE FUNCTIONS\n",
    "def sum_numbers(numbers):\n",
    "\n",
    "    \"\"\"Sums all the numbers in a collection.\"\"\"\n",
    "    return sum(numbers)# Passing a list to the function\n",
    "\n",
    "\n",
    "result = sum_numbers([1, 2, 3, 4, 5])\n",
    "print(result)  # Output: 15Passing a tuple to the function\n",
    "\n",
    "\n",
    "result = sum_numbers((10, 20, 30))\n",
    "print(result)  # Output: 60"
   ]
  },
  {
   "cell_type": "code",
   "execution_count": 9,
   "id": "07334ccd-b866-425e-9965-a2dd0244847d",
   "metadata": {},
   "outputs": [
    {
     "name": "stdout",
     "output_type": "stream",
     "text": [
      "1\n",
      "2\n",
      "3\n",
      "4\n",
      "name: Alice\n",
      "age: 30\n"
     ]
    }
   ],
   "source": [
    "# if we need some more argument as per the user requirement \n",
    "def print_numbers(*args):\n",
    "\n",
    "    for number in args:\n",
    "        print(number)\n",
    "\n",
    "print_numbers(1, 2, 3, 4)\n",
    "\n",
    "def print_key_value(**kwargs):\n",
    "    for key, value in kwargs.items():\n",
    "        print(f\"{key}: {value}\")\n",
    "\n",
    "\n",
    "print_key_value(name=\"Alice\", age=30)"
   ]
  },
  {
   "cell_type": "code",
   "execution_count": 10,
   "id": "3a17503b-a79a-4420-8eda-b2f05ff8c9ef",
   "metadata": {},
   "outputs": [
    {
     "name": "stdout",
     "output_type": "stream",
     "text": [
      "1\n",
      "(2, 3, 4)\n"
     ]
    }
   ],
   "source": [
    "def sum3(a,*args):\n",
    "    print(a)\n",
    "    print(args)\n",
    "    res=a\n",
    "    for i in range(0,len(args)):\n",
    "        res=res+args[i]\n",
    "        \n",
    "    return res\n",
    "\n",
    "res=sum3(1,2,3,4)"
   ]
  },
  {
   "cell_type": "code",
   "execution_count": 11,
   "id": "eb92686e-a74f-400d-acbd-295efe564463",
   "metadata": {},
   "outputs": [],
   "source": [
    "dict1={\n",
    "    \"name\":\"Ayush Paliwal\",\n",
    "    \"batch\":\"B1\",\n",
    "    \"classtime\":\"8:00 AM\"\n",
    "}"
   ]
  },
  {
   "cell_type": "code",
   "execution_count": 13,
   "id": "f3839a2a-f917-436f-9b75-69d702719f59",
   "metadata": {},
   "outputs": [
    {
     "name": "stdout",
     "output_type": "stream",
     "text": [
      "name: Ayush Paliwal\n",
      "age: 23\n",
      "Job: Android Developer\n"
     ]
    }
   ],
   "source": [
    "# using keyword argument in python \n",
    "def printdict(**info):\n",
    "    for key, value in info.items():\n",
    "        print(f\"{key}: {value}\")\n",
    "\n",
    "dict1={\n",
    "    \"name\":\"Ayush Paliwal\",\n",
    "    \"batch\":\"B1\",\n",
    "    \"classtime\":\"8:00 AM\"\n",
    "}\n",
    "\n",
    "printdict(name=\"Ayush Paliwal\",age=23,Job=\"Android Developer\")"
   ]
  },
  {
   "cell_type": "code",
   "execution_count": null,
   "id": "1e5e1b93-5364-4e00-899b-1a62e70ecb68",
   "metadata": {},
   "outputs": [],
   "source": []
  }
 ],
 "metadata": {
  "kernelspec": {
   "display_name": "Python 3 (ipykernel)",
   "language": "python",
   "name": "python3"
  },
  "language_info": {
   "codemirror_mode": {
    "name": "ipython",
    "version": 3
   },
   "file_extension": ".py",
   "mimetype": "text/x-python",
   "name": "python",
   "nbconvert_exporter": "python",
   "pygments_lexer": "ipython3",
   "version": "3.11.9"
  }
 },
 "nbformat": 4,
 "nbformat_minor": 5
}
