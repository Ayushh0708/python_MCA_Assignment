{
 "cells": [
  {
   "cell_type": "code",
   "execution_count": 2,
   "id": "dec60a04-2620-47dd-86de-012adf082cda",
   "metadata": {},
   "outputs": [
    {
     "data": {
      "text/plain": [
       "132"
      ]
     },
     "execution_count": 2,
     "metadata": {},
     "output_type": "execute_result"
    }
   ],
   "source": [
    "# lambda  map,filter,list comprehension\n",
    "\n",
    "\n",
    "# NORMAL function to add two variables\n",
    "\n",
    "def myadd1(a,b):\n",
    "    res=a+b\n",
    "    return res\n",
    "\n",
    "a=55\n",
    "b=77\n",
    "res=myadd1(a,b)\n",
    "res"
   ]
  },
  {
   "cell_type": "code",
   "execution_count": 3,
   "id": "ecb093db-d8df-4c08-abf9-e169024af268",
   "metadata": {},
   "outputs": [
    {
     "name": "stdout",
     "output_type": "stream",
     "text": [
      "8\n"
     ]
    }
   ],
   "source": [
    "# Lambda function to add two numbers\n",
    " \n",
    "add = lambda a, b: a + b   # a,b are the argument  and after colon(:) is the return value\n",
    "print(add(3, 5))"
   ]
  },
  {
   "cell_type": "code",
   "execution_count": null,
   "id": "b6c664a4-96d2-4190-b7b8-c945e4095ea3",
   "metadata": {},
   "outputs": [],
   "source": []
  },
  {
   "cell_type": "code",
   "execution_count": null,
   "id": "6c86b9b9-1728-4e1e-ac69-114ab6077052",
   "metadata": {},
   "outputs": [],
   "source": []
  },
  {
   "cell_type": "code",
   "execution_count": 4,
   "id": "5be3899a-77a1-4504-9203-831c531596e4",
   "metadata": {},
   "outputs": [
    {
     "name": "stdout",
     "output_type": "stream",
     "text": [
      "100\n"
     ]
    },
    {
     "name": "stdin",
     "output_type": "stream",
     "text": [
      "enter value 1-> 43\n",
      "enter value 2-> 23\n"
     ]
    },
    {
     "name": "stdout",
     "output_type": "stream",
     "text": [
      "989\n"
     ]
    }
   ],
   "source": [
    "# BY USING LAMBDA FUNCTION\n",
    "\n",
    "mul = lambda a, b: a * b   # this will take only one expression, multiple expression nhi lega\n",
    "\n",
    "print(mul(10, 10))\n",
    "\n",
    "\n",
    "# BY USING NORMAL FUNCTION CALLING\n",
    "\n",
    "def mul1(x,y)->int:\n",
    "    return x*y \n",
    "\n",
    "a=int(input(\"enter value 1->\"))\n",
    "b=int(input(\"enter value 2->\"))\n",
    "\n",
    "val=mul1(a,b)\n",
    "print(val)"
   ]
  },
  {
   "cell_type": "code",
   "execution_count": 6,
   "id": "411fb58f-6079-4414-bd97-b3ac6000b68a",
   "metadata": {},
   "outputs": [
    {
     "name": "stdout",
     "output_type": "stream",
     "text": [
      "[25, 36, 81, 484]\n"
     ]
    }
   ],
   "source": [
    "# map function  :  applies a given fuction to each items of an iterable like a list and return a map object which is an iterator\n",
    "\n",
    "numbers = [5,6,9,22]\n",
    "squared = map(lambda x: x * x, numbers)   # last , number argument is the final list after operation perform by lambda function\n",
    "print(list(squared)) "
   ]
  },
  {
   "cell_type": "code",
   "execution_count": 8,
   "id": "585c1c02-a607-4453-9023-259f258dc265",
   "metadata": {},
   "outputs": [
    {
     "name": "stdout",
     "output_type": "stream",
     "text": [
      "List after sqaure each element is  -> [36, 16, 9, 36, 36, 16, 9]\n"
     ]
    }
   ],
   "source": [
    "list1=[6,4,3,6,6,4,3]\n",
    "list2=[]\n",
    "\n",
    "for i in list1:\n",
    "    result=i*i\n",
    "    list2.append(result)\n",
    "\n",
    "print(f\"List after sqaure each element is  -> {list2}\")"
   ]
  },
  {
   "cell_type": "code",
   "execution_count": 9,
   "id": "2b7d6b3c-f32e-4d09-9142-02a6923f3a31",
   "metadata": {},
   "outputs": [
    {
     "name": "stdout",
     "output_type": "stream",
     "text": [
      "List after square each element is EVEN NUMBER   -> [36, 64]\n"
     ]
    }
   ],
   "source": [
    "list1=[1,3,5,6,7,8]\n",
    "list2=[]\n",
    "\n",
    "for i in list1:\n",
    "    result=i*i\n",
    "    if result%2==0:\n",
    "        list2.append(result)\n",
    "print(f\"List after square each element is EVEN NUMBER   -> {list2}\")"
   ]
  },
  {
   "cell_type": "code",
   "execution_count": 11,
   "id": "487b5837-3fba-42af-95f5-dcb8d620cd0b",
   "metadata": {},
   "outputs": [
    {
     "name": "stdout",
     "output_type": "stream",
     "text": [
      "36\n",
      "4356\n",
      "484\n"
     ]
    }
   ],
   "source": [
    "# just checking , taking 2 function\n",
    "\n",
    "def square(list12):\n",
    "    for i in list12:\n",
    "        result = i * i\n",
    "        even_square_number(result)\n",
    "\n",
    "def even_square_number(result):\n",
    "    if result % 2 == 0:\n",
    "        print(result)\n",
    "\n",
    "list12 = [6,3,66,22,89]\n",
    "square(list12)"
   ]
  },
  {
   "cell_type": "code",
   "execution_count": 12,
   "id": "71497022-613e-420e-aa82-e5dca2e7ecce",
   "metadata": {},
   "outputs": [
    {
     "name": "stdout",
     "output_type": "stream",
     "text": [
      "[6, 22]\n"
     ]
    }
   ],
   "source": [
    "# FILTER FUNCTION\n",
    "\n",
    "even_numbers = filter(lambda x: x % 2 == 0, numbers)\n",
    "print(list(even_numbers))  # Output: [2, 4]"
   ]
  },
  {
   "cell_type": "code",
   "execution_count": null,
   "id": "d2e8140f-2450-417d-8d15-d819b3035d5c",
   "metadata": {},
   "outputs": [],
   "source": []
  },
  {
   "cell_type": "code",
   "execution_count": null,
   "id": "5cd3e83b-0114-41f4-ada7-97c99c7cd532",
   "metadata": {},
   "outputs": [],
   "source": []
  },
  {
   "cell_type": "code",
   "execution_count": 13,
   "id": "e6ab0207-97d5-4662-8fd9-72785d087632",
   "metadata": {},
   "outputs": [
    {
     "name": "stdout",
     "output_type": "stream",
     "text": [
      "[0, 4, 16, 36, 64]\n"
     ]
    }
   ],
   "source": [
    "list1=[]\n",
    "\n",
    "for i in range(0,10):\n",
    "    if i%2==0:\n",
    "        list1.append(i*i)\n",
    "print(list1)"
   ]
  },
  {
   "cell_type": "code",
   "execution_count": 14,
   "id": "227fef2a-b3c1-46e1-a70f-359c021fab31",
   "metadata": {},
   "outputs": [
    {
     "name": "stdout",
     "output_type": "stream",
     "text": [
      "[0, 4, 16, 36, 64]\n"
     ]
    }
   ],
   "source": [
    "# with list comprehnesion\n",
    "\n",
    "result= [i*i for i in range(0,10) if i%2==0]\n",
    "print(result)"
   ]
  },
  {
   "cell_type": "code",
   "execution_count": 17,
   "id": "4dad82d9-9e07-4acb-877f-9bd716b94196",
   "metadata": {},
   "outputs": [
    {
     "name": "stdout",
     "output_type": "stream",
     "text": [
      "Student email id is->Ayush18249@stu.upes.ac.in\n"
     ]
    }
   ],
   "source": [
    "ans=\"@stu.upes.ac.in\"\n",
    "\n",
    "sap_id=str(590018249)\n",
    "name=\"Ayush Paliwal\"\n",
    "\n",
    "val= name[:5]+sap_id[4:]+ans\n",
    "print(f\"Student email id is->{val}\")"
   ]
  },
  {
   "cell_type": "code",
   "execution_count": null,
   "id": "dc04ec84-83b2-481e-a8bf-6ab42ea8338b",
   "metadata": {},
   "outputs": [],
   "source": []
  },
  {
   "cell_type": "code",
   "execution_count": null,
   "id": "082ba5f9-8cdd-456c-8214-5baa328a4073",
   "metadata": {},
   "outputs": [],
   "source": []
  },
  {
   "cell_type": "code",
   "execution_count": null,
   "id": "ee10a555-1364-4cf5-b2f9-9190c68fe397",
   "metadata": {},
   "outputs": [],
   "source": []
  },
  {
   "cell_type": "code",
   "execution_count": 18,
   "id": "6846dd90-f798-43bd-b9dc-6cad9aeeb7af",
   "metadata": {},
   "outputs": [
    {
     "name": "stdout",
     "output_type": "stream",
     "text": [
      "Current time (in seconds): 1727151605.4742255\n"
     ]
    }
   ],
   "source": [
    "import time\n",
    "  # Get the current time in seconds since the epoch (Unix timestamp)\n",
    "current_time = time.time()\n",
    "print(\"Current time (in seconds):\", current_time)"
   ]
  },
  {
   "cell_type": "code",
   "execution_count": 19,
   "id": "c10bf905-2a87-4c03-9020-9f76693e41d8",
   "metadata": {},
   "outputs": [
    {
     "name": "stdout",
     "output_type": "stream",
     "text": [
      "Start\n",
      " Current time (in seconds): 1727151612.0018444\n",
      "End after 2 seconds\n",
      "Current time (in seconds): 1727151614.002376\n"
     ]
    }
   ],
   "source": [
    "print(\"Start\")\n",
    "current_time = time.time()\n",
    "print(\" Current time (in seconds):\", current_time)\n",
    "time.sleep(2)  # Pauses execution for 2 seconds\n",
    "print(\"End after 2 seconds\")\n",
    "current_time = time.time()\n",
    "print(\"Current time (in seconds):\", current_time)\n",
    "  "
   ]
  },
  {
   "cell_type": "code",
   "execution_count": 20,
   "id": "b89c63ea-7d8d-4128-bb0d-3f4ff80e6bb5",
   "metadata": {},
   "outputs": [
    {
     "name": "stdout",
     "output_type": "stream",
     "text": [
      "Start\n",
      " Current time (HH:MM:SS): 09:50:20\n",
      "End after 2 seconds\n",
      "Current time (HH:MM:SS): 09:50:22\n"
     ]
    }
   ],
   "source": [
    "import time\n",
    "\n",
    "print(\"Start\")\n",
    "current_time = time.time()\n",
    "formatted_time = time.strftime('%H:%M:%S', time.localtime(current_time))\n",
    "print(\" Current time (HH:MM:SS):\", formatted_time)\n",
    "\n",
    "time.sleep(2)  # Pauses execution for 2 seconds\n",
    "\n",
    "print(\"End after 2 seconds\")\n",
    "current_time = time.time()\n",
    "formatted_time = time.strftime('%H:%M:%S', time.localtime(current_time))\n",
    "print(\"Current time (HH:MM:SS):\", formatted_time)"
   ]
  },
  {
   "cell_type": "code",
   "execution_count": 21,
   "id": "a294a16f-4823-4a6a-a712-8b5f081cb890",
   "metadata": {},
   "outputs": [
    {
     "name": "stdout",
     "output_type": "stream",
     "text": [
      "Current working directory: C:\\Users\\paliw\\Desktop\\GITHUB\\PythonProgrammingUPES\n"
     ]
    }
   ],
   "source": [
    "import os\n",
    "# Get the current working directory\n",
    "cwd = os.getcwd()\n",
    "print(\"Current working directory:\", cwd)"
   ]
  },
  {
   "cell_type": "code",
   "execution_count": 22,
   "id": "32e6edc1-c5ce-4f76-887d-987fa5cc9562",
   "metadata": {},
   "outputs": [
    {
     "name": "stdin",
     "output_type": "stream",
     "text": [
      "Enter the directory address:  C:\\Users\\paliw\\Desktop\\GITHUB\\PythonProgrammingUPES\\test_folder\n"
     ]
    },
    {
     "name": "stdout",
     "output_type": "stream",
     "text": [
      "No files found in the directory.\n"
     ]
    }
   ],
   "source": [
    "import os\n",
    "\n",
    "def list_files_in_directory():\n",
    "    # Get directory address from the user\n",
    "    directory = input(\"Enter the directory address: \")\n",
    "\n",
    "    try:\n",
    "        # List all files in the directory\n",
    "        files = os.listdir(directory)\n",
    "        # Filter out directories, keeping only files\n",
    "        files_only = [file for file in files if os.path.isfile(os.path.join(directory, file))]\n",
    "\n",
    "        # Return the list of files\n",
    "        if files_only:\n",
    "            print(\"Files in the directory:\")\n",
    "            return files_only\n",
    "        else:\n",
    "            return \"No files found in the directory.\"\n",
    "    \n",
    "    except FileNotFoundError:\n",
    "        return \"The directory does not exist. Please provide a valid directory.\"\n",
    "\n",
    "# Calling the function\n",
    "file_list = list_files_in_directory()\n",
    "print(file_list)"
   ]
  },
  {
   "cell_type": "code",
   "execution_count": null,
   "id": "cc207289-3896-4871-9825-e20ca2071e26",
   "metadata": {},
   "outputs": [],
   "source": []
  }
 ],
 "metadata": {
  "kernelspec": {
   "display_name": "Python 3 (ipykernel)",
   "language": "python",
   "name": "python3"
  },
  "language_info": {
   "codemirror_mode": {
    "name": "ipython",
    "version": 3
   },
   "file_extension": ".py",
   "mimetype": "text/x-python",
   "name": "python",
   "nbconvert_exporter": "python",
   "pygments_lexer": "ipython3",
   "version": "3.11.9"
  }
 },
 "nbformat": 4,
 "nbformat_minor": 5
}
