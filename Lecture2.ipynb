{
 "cells": [
  {
   "cell_type": "code",
   "execution_count": 7,
   "id": "968dde35-3e9a-4828-b279-93ffe3a8cae1",
   "metadata": {},
   "outputs": [
    {
     "data": {
      "text/plain": [
       "'herro worrd'"
      ]
     },
     "execution_count": 7,
     "metadata": {},
     "output_type": "execute_result"
    }
   ],
   "source": [
    "x=\"hello world\"\n",
    "x.replace('l','r')"
   ]
  },
  {
   "cell_type": "code",
   "execution_count": 8,
   "id": "507d27f0-f34e-4631-9325-41400944fa89",
   "metadata": {},
   "outputs": [
    {
     "data": {
      "text/plain": [
       "2635837308976"
      ]
     },
     "execution_count": 8,
     "metadata": {},
     "output_type": "execute_result"
    }
   ],
   "source": [
    "id(x)"
   ]
  },
  {
   "cell_type": "code",
   "execution_count": 9,
   "id": "793f4392-a3ed-4a69-96a6-2ab2af80ca2e",
   "metadata": {},
   "outputs": [
    {
     "data": {
      "text/plain": [
       "str"
      ]
     },
     "execution_count": 9,
     "metadata": {},
     "output_type": "execute_result"
    }
   ],
   "source": [
    "type(x)"
   ]
  },
  {
   "cell_type": "code",
   "execution_count": 10,
   "id": "4c9cfde8-b628-4f29-a712-336bc03f9a5b",
   "metadata": {},
   "outputs": [
    {
     "data": {
      "text/plain": [
       "'hello world'"
      ]
     },
     "execution_count": 10,
     "metadata": {},
     "output_type": "execute_result"
    }
   ],
   "source": [
    "x.replace(\"hewwo\",\"hello\")"
   ]
  },
  {
   "cell_type": "code",
   "execution_count": 11,
   "id": "5b5c0211-da72-4478-b7ca-8897733100b2",
   "metadata": {},
   "outputs": [
    {
     "name": "stdout",
     "output_type": "stream",
     "text": [
      "10\n"
     ]
    }
   ],
   "source": [
    "str2=\"0123456789\"\n",
    "print(len(str2))\n",
    "# the range is from 0 to N-1"
   ]
  },
  {
   "cell_type": "code",
   "execution_count": 12,
   "id": "ba4cbe2b-f710-4e22-aa8e-e83f37179d1e",
   "metadata": {},
   "outputs": [
    {
     "data": {
      "text/plain": [
       "'0'"
      ]
     },
     "execution_count": 12,
     "metadata": {},
     "output_type": "execute_result"
    }
   ],
   "source": [
    "# access the first index of the string\n",
    "str2[0]"
   ]
  },
  {
   "cell_type": "code",
   "execution_count": 13,
   "id": "d661992f-f7fc-4f20-80c7-866132de67d4",
   "metadata": {},
   "outputs": [
    {
     "data": {
      "text/plain": [
       "'01234'"
      ]
     },
     "execution_count": 13,
     "metadata": {},
     "output_type": "execute_result"
    }
   ],
   "source": [
    "str2[0:5]  "
   ]
  },
  {
   "cell_type": "code",
   "execution_count": 14,
   "id": "76404e48-63b9-46e5-acf2-8f3b02645985",
   "metadata": {},
   "outputs": [
    {
     "ename": "IndexError",
     "evalue": "string index out of range",
     "output_type": "error",
     "traceback": [
      "\u001b[1;31m---------------------------------------------------------------------------\u001b[0m",
      "\u001b[1;31mIndexError\u001b[0m                                Traceback (most recent call last)",
      "Cell \u001b[1;32mIn[14], line 3\u001b[0m\n\u001b[0;32m      1\u001b[0m \u001b[38;5;66;03m# agar index jada put kar dey toh Exception show hoga : array index out of bound\u001b[39;00m\n\u001b[1;32m----> 3\u001b[0m \u001b[43mstr2\u001b[49m\u001b[43m[\u001b[49m\u001b[38;5;241;43m12\u001b[39;49m\u001b[43m]\u001b[49m\n",
      "\u001b[1;31mIndexError\u001b[0m: string index out of range"
     ]
    }
   ],
   "source": [
    "# agar index jada put kar dey toh Exception show hoga : array index out of bound\n",
    "\n",
    "str2[12]"
   ]
  },
  {
   "cell_type": "code",
   "execution_count": 15,
   "id": "7d0d1d0e-8a7b-458e-a17c-a04bac8b1f5c",
   "metadata": {},
   "outputs": [
    {
     "data": {
      "text/plain": [
       "'0123456789'"
      ]
     },
     "execution_count": 15,
     "metadata": {},
     "output_type": "execute_result"
    }
   ],
   "source": [
    "# to print the complete string using slicing \n",
    "str2[0:len(str2)]\n",
    "\n",
    "# or\n",
    "str2[0:]"
   ]
  },
  {
   "cell_type": "code",
   "execution_count": 16,
   "id": "26bef42e-0b6f-4e61-a58f-e79dc8a95fd5",
   "metadata": {},
   "outputs": [
    {
     "data": {
      "text/plain": [
       "5"
      ]
     },
     "execution_count": 16,
     "metadata": {},
     "output_type": "execute_result"
    }
   ],
   "source": [
    "# x=10/2\n",
    "# x\n",
    "\n",
    "# need to get output only 5 instead of 5.0\n",
    "x=int(10/2)\n",
    "x"
   ]
  },
  {
   "cell_type": "code",
   "execution_count": 17,
   "id": "4f2850bc-e3e3-4033-8148-dbc220b7e6b3",
   "metadata": {},
   "outputs": [
    {
     "data": {
      "text/plain": [
       "False"
      ]
     },
     "execution_count": 17,
     "metadata": {},
     "output_type": "execute_result"
    }
   ],
   "source": [
    "bool(0)"
   ]
  },
  {
   "cell_type": "code",
   "execution_count": 18,
   "id": "25b18b5a-5845-494c-8d7d-ea4edc1ecb9e",
   "metadata": {},
   "outputs": [
    {
     "data": {
      "text/plain": [
       "True"
      ]
     },
     "execution_count": 18,
     "metadata": {},
     "output_type": "execute_result"
    }
   ],
   "source": [
    "bool(-1)\n",
    "# In Python, any non-zero value is considered True when evaluated as a boolean. This includes negative numbers like -1."
   ]
  },
  {
   "cell_type": "code",
   "execution_count": 19,
   "id": "24a50ede-ed55-4ce3-9464-b12d07c4f1e9",
   "metadata": {},
   "outputs": [
    {
     "name": "stdout",
     "output_type": "stream",
     "text": [
      "10001.000012\n"
     ]
    }
   ],
   "source": [
    "a=-10001.000012\n",
    "print(abs(a))"
   ]
  },
  {
   "cell_type": "code",
   "execution_count": 20,
   "id": "62f0b00c-8c5d-4c52-bcf0-b43af387e1e1",
   "metadata": {},
   "outputs": [
    {
     "data": {
      "text/plain": [
       "-10001.0"
      ]
     },
     "execution_count": 20,
     "metadata": {},
     "output_type": "execute_result"
    }
   ],
   "source": [
    "round(a,2)"
   ]
  },
  {
   "cell_type": "code",
   "execution_count": 21,
   "id": "431afe07-a8c6-498d-bc1d-ac9fe8bb14ec",
   "metadata": {},
   "outputs": [
    {
     "data": {
      "text/plain": [
       "[1, 2, 3, 4]"
      ]
     },
     "execution_count": 21,
     "metadata": {},
     "output_type": "execute_result"
    }
   ],
   "source": [
    "a=[1,2,3,4]\n",
    "a"
   ]
  },
  {
   "cell_type": "code",
   "execution_count": 22,
   "id": "313f781f-4ad1-4047-8d1e-f5ca80c7adb5",
   "metadata": {},
   "outputs": [
    {
     "data": {
      "text/plain": [
       "1"
      ]
     },
     "execution_count": 22,
     "metadata": {},
     "output_type": "execute_result"
    }
   ],
   "source": [
    "a[0]\n"
   ]
  },
  {
   "cell_type": "code",
   "execution_count": 23,
   "id": "157dd65a-50c6-4651-a1c7-0ca78c92b251",
   "metadata": {},
   "outputs": [
    {
     "data": {
      "text/plain": [
       "[10, 2, 3, 4]"
      ]
     },
     "execution_count": 23,
     "metadata": {},
     "output_type": "execute_result"
    }
   ],
   "source": [
    "# changing the value of index 0\n",
    "a[0]=10\n",
    "a\n",
    "# this prove that list are mutable "
   ]
  },
  {
   "cell_type": "code",
   "execution_count": 24,
   "id": "c807bb68-2c68-4c6d-9e02-494d142539a6",
   "metadata": {},
   "outputs": [
    {
     "data": {
      "text/plain": [
       "19"
      ]
     },
     "execution_count": 24,
     "metadata": {},
     "output_type": "execute_result"
    }
   ],
   "source": [
    "# using inbuilt function\n",
    "sum(a)"
   ]
  },
  {
   "cell_type": "code",
   "execution_count": 25,
   "id": "3099d722-92e6-4260-b72d-379fb37f6744",
   "metadata": {},
   "outputs": [],
   "source": [
    "# Input Function\n"
   ]
  },
  {
   "cell_type": "code",
   "execution_count": 26,
   "id": "5d01a914-653f-4349-bff7-ef5f5596aa4a",
   "metadata": {},
   "outputs": [
    {
     "name": "stdin",
     "output_type": "stream",
     "text": [
      "Enter your name:  Ayush\n"
     ]
    },
    {
     "name": "stdout",
     "output_type": "stream",
     "text": [
      "my name is Ayush\n"
     ]
    }
   ],
   "source": [
    "name=input(\"Enter your name: \")\n",
    "print(f\"my name is {name}\")"
   ]
  },
  {
   "cell_type": "code",
   "execution_count": 27,
   "id": "d74f164f-2be9-4519-8e0a-e9f13d3856d1",
   "metadata": {},
   "outputs": [
    {
     "name": "stdout",
     "output_type": "stream",
     "text": [
      "Size of x:28 bytes\n"
     ]
    }
   ],
   "source": [
    "import sys # Sys are in built function\n",
    "\n",
    "x=42\n",
    "size=sys.getsizeof(x)\n",
    "print(f\"Size of x:{size} bytes\")"
   ]
  },
  {
   "cell_type": "code",
   "execution_count": 28,
   "id": "b8f4fd0e-3db1-4271-99d0-44c795df909d",
   "metadata": {},
   "outputs": [
    {
     "name": "stdin",
     "output_type": "stream",
     "text": [
      "enter the number 4\n"
     ]
    },
    {
     "name": "stdout",
     "output_type": "stream",
     "text": [
      "Value is 4 \n",
      "Value  of ID is 140733945836424\n",
      "Value  of ID is <class 'int'>\n",
      "Value is 4 \n",
      "Value  of ID is 140733945836424\n",
      "Value  of ID is <class 'int'>\n"
     ]
    }
   ],
   "source": [
    "# syntax of function\n",
    "\n",
    "\n",
    "def display(testvar):\n",
    "    print(f\"Value is {testvar} \")\n",
    "    print(f\"Value  of ID is {id(testvar)}\")\n",
    "    print(f\"Value  of ID is {type(testvar)}\")\n",
    "\n",
    "a=int(input(\"enter the number\"))\n",
    "display(a)\n",
    "display(a)"
   ]
  },
  {
   "cell_type": "code",
   "execution_count": null,
   "id": "4502fe4d-a360-44c9-bfb4-df6bdd6bb445",
   "metadata": {},
   "outputs": [],
   "source": []
  }
 ],
 "metadata": {
  "kernelspec": {
   "display_name": "Python 3 (ipykernel)",
   "language": "python",
   "name": "python3"
  },
  "language_info": {
   "codemirror_mode": {
    "name": "ipython",
    "version": 3
   },
   "file_extension": ".py",
   "mimetype": "text/x-python",
   "name": "python",
   "nbconvert_exporter": "python",
   "pygments_lexer": "ipython3",
   "version": "3.11.9"
  }
 },
 "nbformat": 4,
 "nbformat_minor": 5
}
