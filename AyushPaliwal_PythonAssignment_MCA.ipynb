{
 "cells": [
  {
   "cell_type": "code",
   "execution_count": 3,
   "id": "c04ceb5a-6877-4e25-bfd6-ddb7690c8175",
   "metadata": {},
   "outputs": [
    {
     "name": "stdout",
     "output_type": "stream",
     "text": [
      "Ayush Paliwal\n",
      "MCA\n"
     ]
    }
   ],
   "source": [
    "name = \"Ayush Paliwal\"\n",
    "course = \"MCA\"\n",
    "\n",
    "print(name)\n",
    "print(course)"
   ]
  },
  {
   "cell_type": "code",
   "execution_count": 5,
   "id": "5dd5bda4-21a5-4f8b-9950-0396c1fe23bb",
   "metadata": {},
   "outputs": [
    {
     "name": "stdout",
     "output_type": "stream",
     "text": [
      "Hello, World\n"
     ]
    }
   ],
   "source": [
    "print(\"Hello, World\")"
   ]
  },
  {
   "cell_type": "code",
   "execution_count": 6,
   "id": "76d9ecb4-c0e9-4336-9f4c-3db1b39f5c2d",
   "metadata": {},
   "outputs": [
    {
     "name": "stdin",
     "output_type": "stream",
     "text": [
      "Enter the first name : Ayush\n",
      "Enter the second name : Paliwal\n"
     ]
    },
    {
     "name": "stdout",
     "output_type": "stream",
     "text": [
      "lawilaP hsuyA\n"
     ]
    }
   ],
   "source": [
    "a= input(\"Enter the first name :\") \n",
    "b= input(\"Enter the second name :\")  \n",
    "c= a+ \" \" +b\n",
    "print(c[: :-1]) "
   ]
  },
  {
   "cell_type": "code",
   "execution_count": 8,
   "id": "6418bd80-75c0-4ca8-b4e0-c4e65639a615",
   "metadata": {},
   "outputs": [
    {
     "name": "stdout",
     "output_type": "stream",
     "text": [
      "HELLO, WORLD!\n"
     ]
    }
   ],
   "source": [
    "text = \"hello, world!\"\n",
    "upper_text = text.upper()    #to write the text in upper case\n",
    "print(upper_text)"
   ]
  },
  {
   "cell_type": "code",
   "execution_count": 9,
   "id": "16ec649a-2098-49e5-8ebb-ecee0f3c6da2",
   "metadata": {},
   "outputs": [
    {
     "name": "stdout",
     "output_type": "stream",
     "text": [
      "hello, Python!\n"
     ]
    }
   ],
   "source": [
    "text = \"hello, world!\"\n",
    "new_text = text.replace(\"world\", \"Python\")    #to replace teh existing word with the other word\n",
    "print(new_text) "
   ]
  },
  {
   "cell_type": "code",
   "execution_count": 10,
   "id": "1c6d9fd9-b56d-4bff-881b-885fea28327f",
   "metadata": {},
   "outputs": [
    {
     "name": "stdin",
     "output_type": "stream",
     "text": [
      "Enter a number:  4\n"
     ]
    },
    {
     "name": "stdout",
     "output_type": "stream",
     "text": [
      "Integer value: 4\n",
      "Float value: 4.0\n",
      "Complex value: (4+0j)\n"
     ]
    }
   ],
   "source": [
    "user_input = input(\"Enter a number: \")\n",
    "\n",
    "# Convert to integer\n",
    "int_value = int(user_input)\n",
    "print(f\"Integer value: {int_value}\")\n",
    "\n",
    "# Convert to float\n",
    "float_value = float(user_input)\n",
    "print(f\"Float value: {float_value}\")\n",
    "\n",
    "# Convert to complex number\n",
    "complex_value = complex(user_input)\n",
    "print(f\"Complex value: {complex_value}\")"
   ]
  },
  {
   "cell_type": "code",
   "execution_count": 12,
   "id": "c0ef4907-feb5-451f-a7ed-a1e244169412",
   "metadata": {},
   "outputs": [],
   "source": [
    "# int represents whole numbers without a fractional part (e.g., 5)\n",
    "#float represents real numbers that include a fractional part, expressed with decimals (e.g., 5.0)\n",
    "# complex represents numbers with a real and an imaginary part, denoted as a + bj, where a is the real part and b is the imaginary part (e.g., 5 + 2j)"
   ]
  },
  {
   "cell_type": "code",
   "execution_count": 14,
   "id": "bdee2b26-c959-4d4f-9b61-4071a18d05b7",
   "metadata": {},
   "outputs": [
    {
     "name": "stdin",
     "output_type": "stream",
     "text": [
      "Enter the length of the rectangle 4\n",
      "Enter the breadth of the rectangle  2\n"
     ]
    },
    {
     "name": "stdout",
     "output_type": "stream",
     "text": [
      "The Area of Rectangle is  8\n"
     ]
    }
   ],
   "source": [
    "length = int(input(\"Enter the length of the rectangle\"))\n",
    "breadth = int (input(\"Enter the breadth of the rectangle \")) \n",
    "area = length* breadth\n",
    "print(\"The Area of Rectangle is \" , area)"
   ]
  },
  {
   "cell_type": "code",
   "execution_count": 16,
   "id": "dd4631e2-31c8-4111-9195-3552c589b0d6",
   "metadata": {},
   "outputs": [
    {
     "name": "stdin",
     "output_type": "stream",
     "text": [
      "Enter the length of the rectangle 4\n",
      "Enter the breadth of the rectangle  2\n"
     ]
    },
    {
     "name": "stdout",
     "output_type": "stream",
     "text": [
      "The Area of the Rectangle with length 4 and breadth 2 is: 8\n"
     ]
    }
   ],
   "source": [
    "length = int(input(\"Enter the length of the rectangle\"))\n",
    "breadth = int (input(\"Enter the breadth of the rectangle \")) \n",
    "area = length* breadth\n",
    "print(\"The Area of the Rectangle with length {} and breadth {} is: {}\".format(length, breadth, area))"
   ]
  },
  {
   "cell_type": "code",
   "execution_count": 18,
   "id": "f1875e10-d5e9-4ccc-b23b-45e9b8224de9",
   "metadata": {},
   "outputs": [
    {
     "name": "stdin",
     "output_type": "stream",
     "text": [
      "Enter the first number:  5\n",
      "Enter the second number:  3\n",
      "Enter the third number:  2\n"
     ]
    },
    {
     "name": "stdout",
     "output_type": "stream",
     "text": [
      "The average of the three numbers is: 3.33\n"
     ]
    }
   ],
   "source": [
    "num1 = float(input(\"Enter the first number: \")) \n",
    "num2 = float(input(\"Enter the second number: \")) \n",
    "num3 = float(input(\"Enter the third number: \")) #Calculated average \n",
    "average = (num1 + num2 + num3) / 3 \n",
    "print(\"The average of the three numbers is: %.2f\" % average)"
   ]
  },
  {
   "cell_type": "code",
   "execution_count": 19,
   "id": "e95a69ed-0355-4718-98bb-3e6d996f67e9",
   "metadata": {},
   "outputs": [
    {
     "name": "stdin",
     "output_type": "stream",
     "text": [
      "Enter a number:  5\n"
     ]
    },
    {
     "name": "stdout",
     "output_type": "stream",
     "text": [
      "The number is positive.\n"
     ]
    }
   ],
   "source": [
    "number = float(input(\"Enter a number: \")) \n",
    "if number > 0: \n",
    "    print(\"The number is positive.\") \n",
    "elif number < 0:\n",
    "    print(\"The number is negative.\") \n",
    "else: \n",
    "    print(\"The number is zero.\")"
   ]
  },
  {
   "cell_type": "code",
   "execution_count": 20,
   "id": "fac7d132-4893-41c2-9959-b4b84e134665",
   "metadata": {},
   "outputs": [
    {
     "name": "stdin",
     "output_type": "stream",
     "text": [
      "Enter a number (or type 'exit' to quit):  4\n"
     ]
    },
    {
     "name": "stdout",
     "output_type": "stream",
     "text": [
      "The number is positive.\n"
     ]
    },
    {
     "name": "stdin",
     "output_type": "stream",
     "text": [
      "Enter a number (or type 'exit' to quit):  exit\n"
     ]
    },
    {
     "name": "stdout",
     "output_type": "stream",
     "text": [
      "Exiting the program Goodbye!\n"
     ]
    }
   ],
   "source": [
    "while True: \n",
    "    # Ask the user for input\n",
    "    user_input = input(\"Enter a number (or type 'exit' to quit): \")\n",
    "# Check if the user wants to exit\n",
    "    if user_input.lower() == 'exit': \n",
    "        print(\"Exiting the program Goodbye!\")\n",
    "        break \n",
    "    else:\n",
    "        # Convert input to a float and determine if it is positive, negative, or zero\n",
    "        number = float(user_input) \n",
    "        if number > 0: \n",
    "            print(\"The number is positive.\") \n",
    "        elif number < 0:\n",
    "            print(\"The number is negative.\") \n",
    "        else: \n",
    "            print(\"The number is zero.\")"
   ]
  },
  {
   "cell_type": "code",
   "execution_count": 21,
   "id": "40c8217a-0f8e-4f04-9a3f-e0b84c2f0d46",
   "metadata": {},
   "outputs": [
    {
     "name": "stdin",
     "output_type": "stream",
     "text": [
      "Enter the first number:  4\n",
      "Enter the second number:  3\n"
     ]
    },
    {
     "name": "stdout",
     "output_type": "stream",
     "text": [
      "One number is even and the other is odd.\n"
     ]
    }
   ],
   "source": [
    "first_number = int(input(\"Enter the first number: \")) \n",
    "second_number = int(input(\"Enter the second number: \")) \n",
    "\n",
    "if first_number % 2 == 0 and second_number % 2 == 0: \n",
    "    print(\"Both numbers are even.\") \n",
    "elif first_number % 2 != 0 and second_number % 2 != 0: \n",
    "    print(\"Both numbers are odd.\") \n",
    "else:\n",
    "    print(\"One number is even and the other is odd.\")"
   ]
  },
  {
   "cell_type": "code",
   "execution_count": 22,
   "id": "97f87ab0-5deb-4531-942f-a5ebc94a4bb2",
   "metadata": {},
   "outputs": [
    {
     "name": "stdin",
     "output_type": "stream",
     "text": [
      "Enter an integer:  5\n"
     ]
    },
    {
     "name": "stdout",
     "output_type": "stream",
     "text": [
      "Binary: 101\n",
      "Octal: 1\n",
      "Hexadecimal: 1\n"
     ]
    }
   ],
   "source": [
    "def convert_number(num):\n",
    "    \n",
    "    # Binary conversion \n",
    "    binary = '' \n",
    "    for i in range(num.bit_length(), -1, -1):\n",
    "        binary += '1' if (num >> i) & 1 else '0' \n",
    "    binary = binary.lstrip('0') or '0' \n",
    "\n",
    "    \n",
    "    # Octal conversion \n",
    "    octal = '' \n",
    "    for i in range(num.bit_length() - 1, -1, -3): # Group by 3 bits for octal \n",
    "         octal_digit = (num >> i) & 7 # Extract 3 bits at a time \n",
    "         octal += str(octal_digit) \n",
    "    octal = octal.lstrip('0') or '0' \n",
    "\n",
    "    \n",
    "    # Hexadecimal conversion \n",
    "    hex_digits = \"0123456789ABCDEF\" \n",
    "    hexadecimal = '' \n",
    "    for i in range(num.bit_length() - 1, -1, -4): # Group by 4 bits for hexadecimal \n",
    "         hex_digit = (num >> i) & 15 # Extract 4 bits at a time \n",
    "         hexadecimal += hex_digits[hex_digit] \n",
    "    hexadecimal = hexadecimal.lstrip('0') or '0'\n",
    "\n",
    "    print(f\"Binary: {binary}\") \n",
    "    print(f\"Octal: {octal}\") \n",
    "    print(f\"Hexadecimal: {hexadecimal}\") \n",
    "# Take integer input from the user \n",
    "number = int(input(\"Enter an integer: \")) \n",
    "convert_number(number)"
   ]
  }
 ],
 "metadata": {
  "kernelspec": {
   "display_name": "Python 3 (ipykernel)",
   "language": "python",
   "name": "python3"
  },
  "language_info": {
   "codemirror_mode": {
    "name": "ipython",
    "version": 3
   },
   "file_extension": ".py",
   "mimetype": "text/x-python",
   "name": "python",
   "nbconvert_exporter": "python",
   "pygments_lexer": "ipython3",
   "version": "3.11.9"
  }
 },
 "nbformat": 4,
 "nbformat_minor": 5
}
